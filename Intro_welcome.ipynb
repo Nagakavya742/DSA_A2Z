{
  "nbformat": 4,
  "nbformat_minor": 0,
  "metadata": {
    "colab": {
      "provenance": [],
      "authorship_tag": "ABX9TyNdKZ8dHSTrUgjar2uS0kjD",
      "include_colab_link": true
    },
    "kernelspec": {
      "name": "python3",
      "display_name": "Python 3"
    },
    "language_info": {
      "name": "python"
    }
  },
  "cells": [
    {
      "cell_type": "markdown",
      "metadata": {
        "id": "view-in-github",
        "colab_type": "text"
      },
      "source": [
        "<a href=\"https://colab.research.google.com/github/Nagakavya742/DSA_A2Z/blob/main/Intro_welcome.ipynb\" target=\"_parent\"><img src=\"https://colab.research.google.com/assets/colab-badge.svg\" alt=\"Open In Colab\"/></a>"
      ]
    },
    {
      "cell_type": "code",
      "execution_count": 2,
      "metadata": {
        "colab": {
          "base_uri": "https://localhost:8080/"
        },
        "id": "06srX81MLPgy",
        "outputId": "82095554-c50b-4986-8b9d-2c85b890c8f0"
      },
      "outputs": [
        {
          "output_type": "stream",
          "name": "stdout",
          "text": [
            "hello everyone , nice to meet you and welcome to my github profile\n"
          ]
        }
      ],
      "source": [
        "print(\"hello everyone , nice to meet you and welcome to my github profile\")"
      ]
    },
    {
      "cell_type": "code",
      "source": [],
      "metadata": {
        "id": "tHOHjC-KLk8U"
      },
      "execution_count": 2,
      "outputs": []
    }
  ]
}